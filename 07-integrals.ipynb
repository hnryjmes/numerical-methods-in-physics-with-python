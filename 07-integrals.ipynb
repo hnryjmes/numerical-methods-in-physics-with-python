{
 "cells": [
  {
   "cell_type": "markdown",
   "metadata": {},
   "source": [
    "# 7. Integrals"
   ]
  },
  {
   "cell_type": "markdown",
   "metadata": {},
   "source": [
    "- **Newton-Cotes methods**: these make the assumption that the integral can be approximated by summing up the areas of elementary shapes (e.g., rectangles); such methods typicall involve *equally spaced abscissas*: these are useful (if not necessary) when $f(x)$ has already been evaluated at specific points on a grid.\n",
    "- **Gaussian quadrature**: these make use of *unequally spaced abscissas*: these methods choose the $x_i$ in such a way as to provide better accuracy. As a result, they typically require fewer abscissas and therefore fewer function evaluations, making them an attractive option when an $f(x)$ evaluation is costly."
   ]
  },
  {
   "cell_type": "markdown",
   "metadata": {},
   "source": [
    "## 7.2 Newton-Cotes Methods\n",
    "\n",
    "### 7.2.1 Rectangle Rule\n",
    "\n",
    "#### Error Analysis"
   ]
  },
  {
   "cell_type": "markdown",
   "metadata": {},
   "source": [
    "Taylor expansion of $f(x)$ around $x_i$:\n",
    "$$\n",
    "    f(x) = f(x_i) + (x - x_i)f'(x_i)+\\dots\n",
    "$$"
   ]
  },
  {
   "cell_type": "markdown",
   "metadata": {},
   "source": [
    "First-order approximation error analysis:\n",
    "$$\n",
    "    f(x) = f(x_i) + (x - x_i)f'(\\xi_i)\n",
    "$$\n",
    "where $\\xi_i$ is a point between $x_i$ and $x$.\n",
    "\n",
    "Integrate the Taylor series from $x_i$ to $x_{i+1}$:\n",
    "$$\n",
    "    \\int_{x_i}^{x_{i+1}}f(x)dx = \\int_{x_i}^{x_{i+1}}dx\\left[f(x_i) + (x - x_i)f'(\\xi_i) \\right]\n",
    "$$\n",
    "\n",
    "Use the substitution:\n",
    "$$\n",
    "    u = \\frac{x - x_i}{h}\n",
    "$$\n",
    "Expressed in terms of $u$, the integral from $x_i$ to $x_{i+1}$ becomes:\n",
    "$$\n",
    "    \\int_{x_i}^{x_{i+1}}f(x)dx = h \\int_{0}^{1} du \\left[ f(x_i) + huf'(\\xi_i) \\right] = hf(x_i) + \\frac{1}{2}h^2f'(\\xi_i)\n",
    "$$"
   ]
  },
  {
   "cell_type": "markdown",
   "metadata": {},
   "source": [
    "Absolute error in the one-panel (one-subinterval) rectangle formula:\n",
    "$$\n",
    "    \\mathcal{E}_i = \\frac{1}{2}h^2f'(\\xi_i)\n",
    "$$"
   ]
  },
  {
   "cell_type": "markdown",
   "metadata": {},
   "source": [
    "Sum over all the subinterval contributions to get the absolute error for the full interval:\n",
    "$$\n",
    "    \\mathcal{E} = \\sum_{i=0}^{n-2}{\\mathcal{E}_i} = \\frac{1}{2}h^2 \\left( f'(\\xi_0) + f'(\\xi_1) + f'(\\xi_2) + \\dots + f'(\\xi_{n-2}) \\right) \\\\\n",
    "    = \\frac{n-1}{2}\\left( \\frac{f'(\\xi_0) + f'(\\xi_1) + f'(\\xi_2) + \\dots + f'(\\xi_{n-2})}{n-1} \\right) \\\\\n",
    "    = \\frac{n-1}{2}h^2f'(\\xi)\n",
    "$$"
   ]
  },
  {
   "cell_type": "markdown",
   "metadata": {},
   "source": [
    "Assume $n$ discrete data points of the form $(x_i, f(x_i))$ for $i=0,1,\\dots,n-1$.\n",
    "\n",
    "The points $x_i$ are on an equally spaced grid, from $a$ to $b$.\n",
    "\n",
    "The $n$ points are then given by\n",
    "$$\n",
    "    x_i = a + ih\n",
    "$$\n",
    "and h is given by\n",
    "$$\n",
    "    h = \\frac{b-a}{n-1}\n",
    "$$"
   ]
  },
  {
   "cell_type": "markdown",
   "metadata": {},
   "source": [
    "Combining these we have the final result for the absolute error in the composite rectangle formula:\n",
    "$$\n",
    "    \\mathcal{E} = \\frac{b-a}{2}hf'(\\xi)\n",
    "$$"
   ]
  },
  {
   "cell_type": "markdown",
   "metadata": {},
   "source": [
    "### 7.2.7 Implementation\n",
    "\n",
    "$$\n",
    "    f(x) = \\frac{1}{\\sqrt{x^2+1}}\n",
    "$$\n",
    "\n",
    "$$\n",
    "    I = \\int_{a}^{b}f(x)dx\n",
    "$$"
   ]
  },
  {
   "cell_type": "code",
   "execution_count": 4,
   "metadata": {},
   "outputs": [],
   "source": [
    "import numpy as np\n",
    "\n",
    "def f(x):\n",
    "    return 1/np.sqrt(x**2 + 1)"
   ]
  },
  {
   "cell_type": "code",
   "execution_count": 11,
   "metadata": {},
   "outputs": [],
   "source": [
    "def rectangle(f, a, b, n):\n",
    "    h = (b-a)/(n-1)\n",
    "    xs = a + np.arange(n-1)*h\n",
    "    fs = f(xs)\n",
    "    return h*np.sum(fs)"
   ]
  },
  {
   "cell_type": "code",
   "execution_count": 12,
   "metadata": {},
   "outputs": [
    {
     "name": "stdout",
     "output_type": "stream",
     "text": [
      "0.8813735870195429\n"
     ]
    }
   ],
   "source": [
    "ans = np.log(1+np.sqrt(2))\n",
    "print(ans)"
   ]
  },
  {
   "cell_type": "code",
   "execution_count": 13,
   "metadata": {},
   "outputs": [
    {
     "name": "stdout",
     "output_type": "stream",
     "text": [
      "0.8842907340357441\n"
     ]
    }
   ],
   "source": [
    "print(rectangle(f, 0., 1., 51))"
   ]
  },
  {
   "cell_type": "markdown",
   "metadata": {},
   "source": [
    "### 7.6.2 Singularities"
   ]
  },
  {
   "cell_type": "markdown",
   "metadata": {},
   "source": [
    "**Singularity at the Left Endpoint**\n",
    "\n",
    "Consider\n",
    "$$\n",
    "    I_A = \\int_{0}^{2}\\frac{\\sin x}{\\sqrt{x}}dx\n",
    "$$\n",
    "\n",
    "This has a singularity at the left endpoint $x=0$ so closed integration methods (e.g., the trapezoid rule) naively applied will give `NaN` or other problems.\n",
    "\n",
    "Using the substitution $u=\\sqrt{x}$ we have:\n",
    "\n",
    "$$\n",
    "    I_A = \\int_{0}^{\\sqrt{2}}2 \\sin (u^2) du\n",
    "$$\n",
    "\n",
    "and, as this has no singularities we can use closed methods to evaluate the integral."
   ]
  },
  {
   "cell_type": "code",
   "execution_count": null,
   "metadata": {},
   "outputs": [],
   "source": []
  }
 ],
 "metadata": {
  "kernelspec": {
   "display_name": "Python 3",
   "language": "python",
   "name": "python3"
  },
  "language_info": {
   "codemirror_mode": {
    "name": "ipython",
    "version": 3
   },
   "file_extension": ".py",
   "mimetype": "text/x-python",
   "name": "python",
   "nbconvert_exporter": "python",
   "pygments_lexer": "ipython3",
   "version": "3.8.6"
  }
 },
 "nbformat": 4,
 "nbformat_minor": 4
}
